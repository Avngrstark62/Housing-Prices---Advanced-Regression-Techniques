{
 "cells": [
  {
   "cell_type": "code",
   "execution_count": null,
   "id": "dabe22c8-db97-4f45-9fdd-2dfbaeb30a25",
   "metadata": {},
   "outputs": [],
   "source": [
    "data_desc = []\n",
    "\n",
    "with open('data_description.txt', 'r') as f:\n",
    "    for i in range(79):\n",
    "        feature_desc = ''\n",
    "        while(True):\n",
    "            line = f.readline()\n",
    "            if line is None:\n",
    "                break\n",
    "            feature_desc = feature_desc + line\n",
    "            if '\\t' in line:\n",
    "                feature_desc = feature_desc + f.readline()\n",
    "            elif line == '\\n':\n",
    "                break\n",
    "            data_desc.append(feature_desc)\n",
    "        if feature_desc == '':\n",
    "            break\n",
    "    \n",
    "    "
   ]
  },
  {
   "cell_type": "code",
   "execution_count": null,
   "id": "6e196fc9-ad65-4437-9e71-25f792f1a86a",
   "metadata": {},
   "outputs": [],
   "source": [
    "print(data_desc)"
   ]
  },
  {
   "cell_type": "code",
   "execution_count": null,
   "id": "ec7dba78-e9f6-4775-906e-1c3862ba7592",
   "metadata": {},
   "outputs": [],
   "source": []
  }
 ],
 "metadata": {
  "kernelspec": {
   "display_name": "Python 3 (ipykernel)",
   "language": "python",
   "name": "python3"
  },
  "language_info": {
   "codemirror_mode": {
    "name": "ipython",
    "version": 3
   },
   "file_extension": ".py",
   "mimetype": "text/x-python",
   "name": "python",
   "nbconvert_exporter": "python",
   "pygments_lexer": "ipython3",
   "version": "3.12.4"
  }
 },
 "nbformat": 4,
 "nbformat_minor": 5
}
